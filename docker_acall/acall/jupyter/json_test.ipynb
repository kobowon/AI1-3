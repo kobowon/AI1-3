{
 "cells": [
  {
   "cell_type": "code",
   "execution_count": 12,
   "id": "1d7634b4-ebb6-43a9-9212-85b60198d25d",
   "metadata": {},
   "outputs": [
    {
     "name": "stdout",
     "output_type": "stream",
     "text": [
      "Training parameters AttrDict({'task': 'korsts', 'output_dir': '/data/bowon_ko/TRoBERTa_LARGE/210728/finetune/korsts', 'model_name_or_path': '/data/bowon_ko/TRoBERTa_LARGE/210728/pretrain/checkpoint-1500000', 'tokenizer_path': '/data/bowon_ko/wordpiece/version_1.9', 'do_lower_case': False, 'unk_token': '<unk>', 'sep_token': '</s>', 'pad_token': '<pad>', 'cls_token': '<s>', 'mask_token': '<mask>', 'max_seq_len': 128, 'data_dir': '/data/bowon_ko/data', 'train_file': 'sts-train.tsv', 'dev_file': 'sts-dev.tsv', 'test_file': 'sts-test.tsv', 'do_train': True, 'do_eval': True, 'train_batch_size': 32, 'num_train_epochs': 3, 'learning_rate': 5e-05, 'adam_epsilon': 1e-08, 'warmup_proportion': 0, 'max_grad_norm': 1.0, 'no_cuda': False, 'seed': 42, 'eval_batch_size': 128})\n"
     ]
    }
   ],
   "source": [
    "import os\n",
    "from attrdict import AttrDict\n",
    "import json\n",
    "with open('/home/ubuntu/bowon_ko/AI1-3/acall/config/tbert-base-v1.json') as f:\n",
    "    args = AttrDict(json.load(f))\n",
    "    print(f\"Training parameters {args}\")"
   ]
  },
  {
   "cell_type": "code",
   "execution_count": 16,
   "id": "b5b7bd4a-6261-477c-ac7e-600cf2e3e6f4",
   "metadata": {},
   "outputs": [
    {
     "name": "stdout",
     "output_type": "stream",
     "text": [
      "Training parameters AttrDict({'model_path': '/data/bowon_ko/TBERT_Distil/220110/final', 'output_dir': '/data/bowon_ko/TBERT_Distil/220110/finetune/acall/version_2', 'page_num': 5, 'max_seq_len': 128, 'data_dir': '/home/ubuntu/bowon_ko/AI1-3/acall/data', 'train_file': 'acall_data.json', 'do_train': True, 'do_eval': False, 'train_batch_size': 8, 'num_train_epochs': 50, 'learning_rate': 2e-05, 'adam_epsilon': 1e-08, 'warmup_proportion': 0.0, 'max_grad_norm': 1.0, 'seed': 42})\n"
     ]
    }
   ],
   "source": [
    "import os\n",
    "from attrdict import AttrDict\n",
    "import json\n",
    "with open('/home/ubuntu/bowon_ko/AI1-3/acall/config/acall_config.json') as f:\n",
    "    args = AttrDict(json.load(f))\n",
    "    print(f\"Training parameters {args}\")"
   ]
  },
  {
   "cell_type": "code",
   "execution_count": null,
   "id": "e5996aa7-f550-40fe-937a-e8b7b9fa3863",
   "metadata": {},
   "outputs": [],
   "source": []
  }
 ],
 "metadata": {
  "kernelspec": {
   "display_name": "Python 3 (ipykernel)",
   "language": "python",
   "name": "python3"
  },
  "language_info": {
   "codemirror_mode": {
    "name": "ipython",
    "version": 3
   },
   "file_extension": ".py",
   "mimetype": "text/x-python",
   "name": "python",
   "nbconvert_exporter": "python",
   "pygments_lexer": "ipython3",
   "version": "3.7.11"
  }
 },
 "nbformat": 4,
 "nbformat_minor": 5
}
