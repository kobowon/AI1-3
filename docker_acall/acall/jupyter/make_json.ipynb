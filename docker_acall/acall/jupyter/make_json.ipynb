{
 "cells": [
  {
   "cell_type": "code",
   "execution_count": 23,
   "id": "11d0041b-5312-4746-bcc0-bd37b808da9c",
   "metadata": {},
   "outputs": [],
   "source": [
    "data = {\n",
    "    \"1\": [\n",
    "        {\n",
    "            \"제목\" : \"티베로 설치\",\n",
    "            \"티베로 설치를 위한 과정\" : \n",
    "                [\"티베로 설치 전 준비사항\",\n",
    "                 \"티베로 설치 방법\", \n",
    "                 \"티베로 설치 확인\"], \n",
    "            \"티베로 설치 전 준비사항\" : \n",
    "                [\"디스크 용량 확인\", \n",
    "                 \"JDK 설치\", \n",
    "                 \"운영체제별 설치 및 설정\", \n",
    "                 \"NTP 서버 설정\", \n",
    "                 \"기타 확인사항\"],\n",
    "            \"티베로 설치 방법\" : \n",
    "                [\"Windows 환경에서 티베로를 설치\",\n",
    "                 \"Linux 환경에서 티베로를 설치\"],\n",
    "            \"티베로 설치 확인\" : \n",
    "                [\"디렉터리 구조 확인\",\n",
    "                \"사용자 환경설정 파일 확인\"\n",
    "                ],\n",
    "        },\n",
    "        {\n",
    "            \"제목\" : \"티베로 사용\",\n",
    "            \"티베로 사용을 위한 항목\" : \n",
    "                [\"티베로 사용 설명\", \n",
    "                 \"티베로 부팅 방법\", \n",
    "                 \"티베로 종료\", \n",
    "                 \"티베로 접속\"], \n",
    "            \"티베로 부팅 방법\" : \"tbboot 명렁어 사용\",\n",
    "            \"티베로 종료 방법\" : \"tbdown 명령어 사용\",\n",
    "            \"티베로 접속 방법\" : \"tbsql 명령어 사용\",\n",
    "        }\n",
    "   ]\n",
    "}\n"
   ]
  },
  {
   "cell_type": "code",
   "execution_count": 24,
   "id": "975b1f5b-3a3d-4c84-b2c8-0b0849183f17",
   "metadata": {},
   "outputs": [
    {
     "data": {
      "text/plain": [
       "dict_keys(['제목', '티베로 설치를 위한 과정', '티베로 설치 전 준비사항', '티베로 설치 방법', '티베로 설치 확인'])"
      ]
     },
     "execution_count": 24,
     "metadata": {},
     "output_type": "execute_result"
    }
   ],
   "source": [
    "data['1'][0].keys()"
   ]
  },
  {
   "cell_type": "code",
   "execution_count": 25,
   "id": "7c4a22b3-2d1d-4d6c-bef7-62a04c23434a",
   "metadata": {},
   "outputs": [],
   "source": [
    "import json \n",
    "\n",
    "with open('superapp.json','w', encoding='utf-8') as f:\n",
    "    json.dump(data, f)"
   ]
  },
  {
   "cell_type": "code",
   "execution_count": 26,
   "id": "557eddb5-d392-4f2b-a9f5-456ff0f2a37d",
   "metadata": {},
   "outputs": [
    {
     "name": "stdout",
     "output_type": "stream",
     "text": [
      "제목 티베로 설치\n",
      "티베로 설치를 위한 과정 ['티베로 설치 전 준비사항', '티베로 설치 방법', '티베로 설치 확인']\n",
      "티베로 설치 전 준비사항 ['디스크 용량 확인', 'JDK 설치', '운영체제별 설치 및 설정', 'NTP 서버 설정', '기타 확인사항']\n",
      "티베로 설치 방법 ['Windows 환경에서 티베로를 설치', 'Linux 환경에서 티베로를 설치']\n",
      "티베로 설치 확인 ['디렉터리 구조 확인', '사용자 환경설정 파일 확인']\n"
     ]
    }
   ],
   "source": [
    "with open ('superapp.json', 'r') as f:\n",
    "    json_data = json.load(f)\n",
    "for i in json_data['1'][0].items():\n",
    "    print(i[0], i[1])"
   ]
  },
  {
   "cell_type": "code",
   "execution_count": 27,
   "id": "99238cb0-ead4-45f1-9765-133cb4fdcbd0",
   "metadata": {},
   "outputs": [],
   "source": [
    "def is_hangul(last): #마지막 글자 한글 판단\n",
    "    if 44032 <= ord(last) <= 55203:\n",
    "        return True\n",
    "    return False\n",
    "\n",
    "def is_bartchim(last):\n",
    "    criteria = (ord(last) - 44032) % 28     #아스키(ASCII) 코드 공식\n",
    "    if criteria == 0:\n",
    "        return False\n",
    "    else:\n",
    "        return True\n",
    "\n",
    "def return_key_josa(key_data):    #단어의 마지막 글자 받침 유무를 판단이후, 뒤에 붙는 조사를 리턴하는 함수\n",
    "    last = key_data[-1]      #입력된 word의 마지막 글자\n",
    "    if not is_hangul(last):\n",
    "        return '은(는)'\n",
    "    \n",
    "    if is_bartchim(last):#받침 O\n",
    "        return '은'\n",
    "    else:#받침 X\n",
    "        return '는'\n",
    "    \n",
    "\n",
    "\n",
    "\n"
   ]
  },
  {
   "cell_type": "code",
   "execution_count": 28,
   "id": "0176bbd4-e43e-45f4-85a8-db9eacbfac06",
   "metadata": {},
   "outputs": [
    {
     "name": "stdout",
     "output_type": "stream",
     "text": [
      "['제목은 티베로 설치입니다.\\n티베로 설치를 위한 과정은 티베로 설치 전 준비사항, 티베로 설치 방법, 티베로 설치 확인을 포함합니다.\\n티베로 설치 전 준비사항은 디스크 용량 확인, JDK 설치, 운영체제별 설치 및 설정, NTP 서버 설정, 기타 확인사항을 포함합니다.\\n티베로 설치 방법은 Windows 환경에서 티베로를 설치, Linux 환경에서 티베로를 설치를 포함합니다.\\n티베로 설치 확인은 디렉터리 구조 확인, 사용자 환경설정 파일 확인을 포함합니다.', '제목은 티베로 사용입니다.\\n티베로 사용을 위한 항목은 티베로 사용 설명, 티베로 부팅 방법, 티베로 종료, 티베로 접속을 포함합니다.\\n티베로 부팅 방법은 tbboot 명렁어 사용입니다.\\n티베로 종료 방법은 tbdown 명령어 사용입니다.\\n티베로 접속 방법은 tbsql 명령어 사용입니다.']\n",
      "\n",
      "제목은 티베로 설치입니다.\n",
      "티베로 설치를 위한 과정은 티베로 설치 전 준비사항, 티베로 설치 방법, 티베로 설치 확인을 포함합니다.\n",
      "티베로 설치 전 준비사항은 디스크 용량 확인, JDK 설치, 운영체제별 설치 및 설정, NTP 서버 설정, 기타 확인사항을 포함합니다.\n",
      "티베로 설치 방법은 Windows 환경에서 티베로를 설치, Linux 환경에서 티베로를 설치를 포함합니다.\n",
      "티베로 설치 확인은 디렉터리 구조 확인, 사용자 환경설정 파일 확인을 포함합니다.\n",
      "\n",
      "제목은 티베로 사용입니다.\n",
      "티베로 사용을 위한 항목은 티베로 사용 설명, 티베로 부팅 방법, 티베로 종료, 티베로 접속을 포함합니다.\n",
      "티베로 부팅 방법은 tbboot 명렁어 사용입니다.\n",
      "티베로 종료 방법은 tbdown 명령어 사용입니다.\n",
      "티베로 접속 방법은 tbsql 명령어 사용입니다.\n"
     ]
    }
   ],
   "source": [
    "def return_value_josa(value_data):\n",
    "    if type(value_data) == list:#을(를) 포함합니다.\n",
    "        last = value_data[-1][-1]\n",
    "        \n",
    "        if not is_hangul(last): #한글이 아닌 경우\n",
    "            return '을(를) 포함합니다.'\n",
    "        \n",
    "        if is_bartchim(last):#받침 O\n",
    "            return '을 포함합니다.'\n",
    "        else:\n",
    "            return '를 포함합니다.'\n",
    "    elif type(value_data) == str:\n",
    "        return '입니다.'\n",
    "    \n",
    "    \n",
    "def make_nl_from_json(json_data): #json_data['1'] 이 들어온다고 가정\n",
    "    natural_languages = []\n",
    "    for data in json_data:\n",
    "        natural_language = []\n",
    "        for k in data.keys():\n",
    "            #value 타입 판단\n",
    "            if type(data[k]) == list:\n",
    "                values = ', '.join(data[k])\n",
    "            elif type(data[k]) == str:\n",
    "                values = data[k]\n",
    "            #key에 대한 조사 판단\n",
    "            key_josa = return_key_josa(k)\n",
    "            value_josa = return_value_josa(data[k])\n",
    "            natural_language.append(k+key_josa+' '+values+value_josa)\n",
    "        result = '\\n'.join(natural_language)\n",
    "        natural_languages.append(result)\n",
    "    return natural_languages\n",
    "\n",
    "test = make_nl_from_json(json_data['1'])\n",
    "print(test)\n",
    "print()\n",
    "print(test[0])\n",
    "print()\n",
    "print(test[1])\n",
    "    "
   ]
  },
  {
   "cell_type": "code",
   "execution_count": 29,
   "id": "5c3606e1-97ef-4536-a3ad-660ec08c93b2",
   "metadata": {},
   "outputs": [
    {
     "name": "stdout",
     "output_type": "stream",
     "text": [
      "제목은 티베로 설치입니다.\n",
      "티베로 설치를 위한 과정은 티베로 설치 전 준비사항을 포함합니다.\n",
      "티베로 설치를 위한 과정은 티베로 설치 방법을 포함합니다.\n",
      "티베로 설치를 위한 과정은 티베로 설치 확인을 포함합니다.\n",
      "티베로 설치 전 준비사항은 디스크 용량 확인을 포함합니다.\n",
      "티베로 설치 전 준비사항은 JDK 설치를 포함합니다.\n",
      "티베로 설치 전 준비사항은 운영체제별 설치 및 설정을 포함합니다.\n",
      "티베로 설치 전 준비사항은 NTP 서버 설정을 포함합니다.\n",
      "티베로 설치 전 준비사항은 기타 확인사항을 포함합니다.\n",
      "티베로 설치 방법은 Windows 환경에서 티베로를 설치를 포함합니다.\n",
      "티베로 설치 방법은 Linux 환경에서 티베로를 설치를 포함합니다.\n",
      "티베로 설치 확인은 디렉터리 구조 확인을 포함합니다.\n",
      "티베로 설치 확인은 사용자 환경설정 파일 확인을 포함합니다.\n",
      "제목은 티베로 사용입니다.\n",
      "티베로 사용을 위한 항목은 티베로 사용 설명을 포함합니다.\n",
      "티베로 사용을 위한 항목은 티베로 부팅 방법을 포함합니다.\n",
      "티베로 사용을 위한 항목은 티베로 종료를 포함합니다.\n",
      "티베로 사용을 위한 항목은 티베로 접속을 포함합니다.\n",
      "티베로 부팅 방법은 tbboot 명렁어 사용입니다.\n",
      "티베로 종료 방법은 tbdown 명령어 사용입니다.\n",
      "티베로 접속 방법은 tbsql 명령어 사용입니다.\n"
     ]
    }
   ],
   "source": [
    "def return_value_josa_plus(value_data, value_type):\n",
    "    if value_type == 'list':\n",
    "        last = value_data[-1]\n",
    "        if not is_hangul(last): #한글이 아닌 경우\n",
    "            return '을(를) 포함합니다.'\n",
    "\n",
    "        if is_bartchim(last):#받침 O\n",
    "            return '을 포함합니다.'\n",
    "        else:\n",
    "            return '를 포함합니다.'\n",
    "    \n",
    "    elif value_type == 'str':\n",
    "        return '입니다.'\n",
    "\n",
    "def make_nl_from_json_plus(json_data): #json_data['1'] 이 들어온다고 가정\n",
    "    natural_languages = []\n",
    "    for data in json_data:\n",
    "        for k in data.keys():\n",
    "            #value 타입 판단\n",
    "            key_josa = return_key_josa(k)\n",
    "            \n",
    "            if type(data[k]) == list:\n",
    "                natural_language = []\n",
    "                for v in data[k]:\n",
    "                    value_josa = return_value_josa_plus(v, 'list')\n",
    "                    natural_language.append(k+key_josa+' '+v+value_josa)\n",
    "                natural_languages.extend(natural_language)\n",
    "    \n",
    "            elif type(data[k]) == str:\n",
    "                v = data[k]\n",
    "                value_josa = return_value_josa_plus(v, 'str')\n",
    "                natural_languages.append(k+key_josa+' '+v+value_josa)\n",
    "    return natural_languages\n",
    "test = make_nl_from_json_plus(json_data['1'])\n",
    "for i in test:\n",
    "    print(i)\n",
    "    "
   ]
  },
  {
   "cell_type": "code",
   "execution_count": null,
   "id": "ccb86aeb-6bec-4478-b9f1-5179ab74f091",
   "metadata": {},
   "outputs": [],
   "source": []
  }
 ],
 "metadata": {
  "kernelspec": {
   "display_name": "Python 3 (ipykernel)",
   "language": "python",
   "name": "python3"
  },
  "language_info": {
   "codemirror_mode": {
    "name": "ipython",
    "version": 3
   },
   "file_extension": ".py",
   "mimetype": "text/x-python",
   "name": "python",
   "nbconvert_exporter": "python",
   "pygments_lexer": "ipython3",
   "version": "3.7.11"
  }
 },
 "nbformat": 4,
 "nbformat_minor": 5
}
