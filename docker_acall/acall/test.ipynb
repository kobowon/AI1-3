{
 "cells": [
  {
   "cell_type": "code",
   "execution_count": 1,
   "id": "9a4caf09-b8d2-4530-a8fd-0696a4a880ae",
   "metadata": {},
   "outputs": [],
   "source": [
    "import json\n",
    "import sys\n",
    "from train_json import train \n",
    "from infer_json import infer"
   ]
  },
  {
   "cell_type": "code",
   "execution_count": 2,
   "id": "eb327ee1-ba73-44f3-86c1-f6c58d374b3f",
   "metadata": {},
   "outputs": [
    {
     "name": "stdout",
     "output_type": "stream",
     "text": [
      "./data/acall_data_simple2.json\n"
     ]
    }
   ],
   "source": [
    "file_path = './data/acall_data_simple2.json'\n",
    "if file_path: #for train\n",
    "    with open(file_path) as f:\n",
    "        print(file_path)\n",
    "        data = json.load(f)['data']"
   ]
  },
  {
   "cell_type": "code",
   "execution_count": 3,
   "id": "a0f9ed3f-91d7-400e-91f3-be9e1636ba86",
   "metadata": {},
   "outputs": [
    {
     "name": "stdout",
     "output_type": "stream",
     "text": [
      "[{'description': '6001: 내부에서 발생하는 에러입니다. Data Dictionary를 찾지 못하여 발생합니다.', 'keywords': ['6001', '6001', 'Data Dictionary', 'Data Dictionary'], 'questions': ['내부에서 발생하는 에러의 종류는?', 'Data Dictionary를 찾지 못하여 발생하는 에러의 종류는?', 'Data Dictionary를 찾지 못하여 발생하는 에러의 이름은?', '6001: 내부에서 발생하는 에러를 무엇이라고 하는가?'], 'page_num': 25}, {'description': '티베로 유틸', 'keywords': ['티베로', '티베로', '유틸리티', '유틸리티'], 'questions': ['유틸 티베베로 유틸 틸티베베베 베베베리 유틸 티베드로 유틸이 유틸하게 틸팅 유틸구 유틸사 티허  유틸 티', '티베로 유틸리티', '티베로로 유틸리티 티베로 틸티베로 유틸이 티베로를 티베롤로 티베 로 유틸을 티가 무엇 틸틸리티?   유틸리티  티베', '티베로로 유틸리티 티베로 틸티베로 유틸이 티베로를 티베롤로 티베 로 유틸을 티가 무엇 틸틸리티?   유틸리티리티 유틸'], 'page_num': 79}, {'description': '티베로 유틸리티', 'keywords': ['티베로 유틸리티', '티베로 유틸리티', '티베로', '티베로'], 'questions': ['티베베로 유틸리티의 제목은 티베로유틸리티가 무엇과 함께 무엇에 대한 유틸리 티베   티베어 티베 로 유틸 어 티베드로 유틸즈 티베', '티베베로 유틸리티의 이름은?', '티베베베로 유틸리티를 무엇으로 하면?', '티베베베로 유틸리티를 무엇으로 하는가 티베로유틸리티?'], 'page_num': 80}, {'description': '유틸리티', 'keywords': ['티베로 유틸리티', '티베로 유틸리티'], 'questions': ['유틸리티를 무엇이라고 할까??', '유틸리티를 무엇이라고 할까?'], 'page_num': 81}]\n"
     ]
    }
   ],
   "source": [
    "print(data)"
   ]
  },
  {
   "cell_type": "code",
   "execution_count": 4,
   "id": "44c8357b-95e9-4687-94f0-59dbeb926121",
   "metadata": {},
   "outputs": [
    {
     "name": "stdout",
     "output_type": "stream",
     "text": [
      "['페이지: 25', '페이지: 79', '페이지: 80', '페이지: 81']\n"
     ]
    }
   ],
   "source": [
    "label_list = []\n",
    "for item in data:\n",
    "    label_list.append('페이지: '+str(item['page_num']))\n",
    "print(label_list)"
   ]
  },
  {
   "cell_type": "code",
   "execution_count": 11,
   "id": "138a3b93-c9de-4a0f-8edc-af8946d09eb4",
   "metadata": {},
   "outputs": [],
   "source": [
    "import torch\n",
    "from torch.nn import Softmax\n",
    "\n",
    "x = torch.tensor([[-0.6011904,   1.6675575,  -0.37542316, -0.51154095, -0.13037324],\n",
    " [-0.5540767,   1.3629862,  -0.2956285,  -0.4676193,  -0.0876275]])"
   ]
  },
  {
   "cell_type": "code",
   "execution_count": 12,
   "id": "a3248e29-80c0-43e3-9343-6aac4a028927",
   "metadata": {},
   "outputs": [
    {
     "name": "stdout",
     "output_type": "stream",
     "text": [
      "tensor([[-0.6012,  1.6676, -0.3754, -0.5115, -0.1304],\n",
      "        [-0.5541,  1.3630, -0.2956, -0.4676, -0.0876]])\n"
     ]
    }
   ],
   "source": [
    "print(x)"
   ]
  },
  {
   "cell_type": "code",
   "execution_count": 14,
   "id": "1f7ec453-51d7-477c-a970-5aac51617d63",
   "metadata": {},
   "outputs": [
    {
     "name": "stdout",
     "output_type": "stream",
     "text": [
      "tensor([[0.0684, 0.6614, 0.0857, 0.0748, 0.1096],\n",
      "        [0.0849, 0.5773, 0.1099, 0.0926, 0.1353]])\n"
     ]
    }
   ],
   "source": [
    "m = torch.nn.Softmax(dim=1)\n",
    "print(m(x))"
   ]
  },
  {
   "cell_type": "code",
   "execution_count": 24,
   "id": "2dfffe9b-5ac2-4a7e-abe5-d957b8ed575d",
   "metadata": {},
   "outputs": [
    {
     "name": "stdout",
     "output_type": "stream",
     "text": [
      "tensor([[-2.,  4.]])\n",
      "tensor([[0.0025, 0.9975]])\n"
     ]
    }
   ],
   "source": [
    "m = torch.nn.Softmax(dim=1)\n",
    "#input = torch.randn(2, 3)\n",
    "input = torch.tensor([[-2., 4.],])\n",
    "output = m(input)\n",
    "print(input)\n",
    "print(output)"
   ]
  },
  {
   "cell_type": "code",
   "execution_count": null,
   "id": "16bfcce5-0e5b-44d9-bab1-a7c7b238e1ee",
   "metadata": {},
   "outputs": [],
   "source": []
  }
 ],
 "metadata": {
  "kernelspec": {
   "display_name": "Python 3 (ipykernel)",
   "language": "python",
   "name": "python3"
  },
  "language_info": {
   "codemirror_mode": {
    "name": "ipython",
    "version": 3
   },
   "file_extension": ".py",
   "mimetype": "text/x-python",
   "name": "python",
   "nbconvert_exporter": "python",
   "pygments_lexer": "ipython3",
   "version": "3.7.0"
  }
 },
 "nbformat": 4,
 "nbformat_minor": 5
}
